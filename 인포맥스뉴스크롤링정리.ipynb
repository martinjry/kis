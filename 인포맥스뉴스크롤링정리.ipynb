{
 "cells": [
  {
   "cell_type": "code",
   "execution_count": 230,
   "metadata": {},
   "outputs": [],
   "source": [
    "import requests\n",
    "from bs4 import BeautifulSoup\n",
    "import pandas as pd\n",
    "import re\n",
    "import openpyxl"
   ]
  },
  {
   "cell_type": "code",
   "execution_count": 234,
   "metadata": {},
   "outputs": [],
   "source": [
    "def table_to_excel(url_data,title):\n",
    "    result2 = requests.get(url_data)\n",
    "    bs_obj2 = BeautifulSoup(result2.content,\"html.parser\")\n",
    "    div_data = bs_obj2.find('div',{\"id\":\"article-view-content-div\"})\n",
    "    table_data = div_data.find('table')\n",
    "    tr_data = table_data.findAll('tr')\n",
    "    td_data=[]\n",
    "    for i in range(len(tr_data)):\n",
    "        td_data.append(tr_data[i].findAll('td'))\n",
    "    data = []\n",
    "    for i in range(len(td_data)):\n",
    "        data.append(str(td_data[i]))\n",
    "#     print(data)\n",
    "    data2 = []\n",
    "    for i in range(len(td_data)):\n",
    "        data2.append(data[i].split(','))\n",
    "#     print(data2)\n",
    "    for i in range(len(data2)):\n",
    "        for j in range(len(data2[i])):\n",
    "            data2[i][j] = re.sub('<.+?>', '', data2[i][j], 0).strip()\n",
    "    for i in range(len(data2)):\n",
    "        data2[i][0] = data2[i][0].replace(\"[\",\"\")\n",
    "        data2[i][8] = data2[i][8].replace(\"]\",\"\")\n",
    "    df = pd.DataFrame(data2)\n",
    "    df.to_excel('news{}.xlsx'.format(title))\n",
    "                    \n",
    "def parse_title(title):\n",
    "    titles = []\n",
    "    for i in range(8):\n",
    "        titles.append(str(title[i+1]))\n",
    "    title2 = []\n",
    "    for i in range(8):\n",
    "        title2.append(titles[i].split(','))\n",
    "    for i in range(8):\n",
    "        title2[i] = re.sub('<.+?>', '', str(title2[i]), 0).strip()\n",
    "        title2[i] = title2[i].replace(\"['\",\"\")\n",
    "        title2[i] = title2[i].replace(\"']\",\"\")\n",
    "        title2[i] = title2[i].replace(\"[표] IRS·CRS 최종호가 및 스와프베이시스\",\"\")\n",
    "    return title2"
   ]
  },
  {
   "cell_type": "code",
   "execution_count": 235,
   "metadata": {},
   "outputs": [],
   "source": [
    "url_code = 'https://news.einfomax.co.kr/news/articleList.html?sc_area=A&view_type=sm&sc_word=%5B%ED%91%9C%5D+IRS%C2%B7CRS+%EC%B5%9C%EC%A2%85%ED%98%B8%EA%B0%80+%EB%B0%8F+%EC%8A%A4%EC%99%80%ED%94%84%EB%B2%A0%EC%9D%B4%EC%8B%9C%EC%8A%A4'\n",
    "url = 'https://news.einfomax.co.kr/news/articleList.html?sc_area=A&view_type=sm&sc_word=%5B표%5D+IRS·CRS+최종호가+및+스와프베이시스'\n",
    "url_news = 'https://news.einfomax.co.kr/'"
   ]
  },
  {
   "cell_type": "code",
   "execution_count": 236,
   "metadata": {},
   "outputs": [],
   "source": [
    "result = requests.get(url)\n",
    "bs_obj = BeautifulSoup(result.content,\"html.parser\")\n",
    "a_tags = bs_obj.findAll('a',{'class':'line-height-3-2x'})\n",
    "title = bs_obj.findAll('strong')"
   ]
  },
  {
   "cell_type": "code",
   "execution_count": 237,
   "metadata": {},
   "outputs": [
    {
     "data": {
      "text/plain": [
       "[<strong>기사</strong>,\n",
       " <strong>[표] IRS·CRS 최종호가 및 스와프베이시스(16일)</strong>,\n",
       " <strong>[표] IRS·CRS 최종호가 및 스와프베이시스(15일)</strong>,\n",
       " <strong>[표] IRS·CRS 최종호가 및 스와프베이시스(14일)</strong>,\n",
       " <strong>[표] IRS·CRS 최종호가 및 스와프베이시스(13일)</strong>,\n",
       " <strong>[표] IRS·CRS 최종호가 및 스와프베이시스(12일)</strong>,\n",
       " <strong>[표] IRS·CRS 최종호가 및 스와프베이시스(8일)</strong>,\n",
       " <strong>[표] IRS·CRS 최종호가 및 스와프베이시스(7일)</strong>,\n",
       " <strong>[표] IRS·CRS 최종호가 및 스와프베이시스(6일)</strong>,\n",
       " <strong>[표] IRS·CRS 최종호가 및 스와프베이시스(5일)</strong>,\n",
       " <strong>[표] IRS·CRS 최종호가 및 스와프베이시스(29일)</strong>,\n",
       " <strong>[표] IRS·CRS 최종호가 및 스와프베이시스(28일)</strong>,\n",
       " <strong>[표] IRS·CRS 최종호가 및 스와프베이시스(25일)</strong>,\n",
       " <strong>[표] IRS·CRS 최종호가 및 스와프베이시스(24일)</strong>,\n",
       " <strong>[표] IRS·CRS 최종호가 및 스와프베이시스(23일)</strong>,\n",
       " <strong>[표] IRS·CRS 최종호가 및 스와프베이시스(22일)</strong>,\n",
       " <strong>[표] IRS·CRS 최종호가 및 스와프베이시스(21일)</strong>,\n",
       " <strong>[표] IRS·CRS 최종호가 및 스와프베이시스(18일)</strong>,\n",
       " <strong>[표] IRS·CRS 최종호가 및 스와프베이시스(17일)</strong>,\n",
       " <strong>[표] IRS·CRS 최종호가 및 스와프베이시스(16일)</strong>,\n",
       " <strong>[표] IRS·CRS 최종호가 및 스와프베이시스(15일)</strong>,\n",
       " <strong>[표] IRS·CRS 최종호가 및 스와프베이시스(14일)</strong>,\n",
       " <strong>[표] IRS·CRS 최종호가 및 스와프베이시스(11일)</strong>,\n",
       " <strong>[표] IRS·CRS 최종호가 및 스와프베이시스(10일)</strong>,\n",
       " <strong>[표] IRS·CRS 최종호가 및 스와프베이시스(9일)</strong>,\n",
       " <strong>[표] IRS·CRS 최종호가 및 스와프베이시스(8일)</strong>,\n",
       " <strong>[표] IRS·CRS 최종호가 및 스와프베이시스(7일)</strong>,\n",
       " <strong>[표] IRS·CRS 최종호가 및 스와프베이시스(4일)</strong>,\n",
       " <strong>[표] IRS·CRS 최종호가 및 스와프베이시스(3일)</strong>,\n",
       " <strong>[표] IRS·CRS 최종호가 및 스와프베이시스(2일)</strong>,\n",
       " <strong>[표] IRS·CRS 최종호가 및 스와프베이시스(1일)</strong>,\n",
       " <strong>많이 본 뉴스</strong>,\n",
       " <strong>회사소개</strong>,\n",
       " <strong>연합인포맥스 News</strong>,\n",
       " <strong>인포맥스</strong>,\n",
       " <strong>회사소개</strong>,\n",
       " <strong>개인정보처리방침</strong>,\n",
       " <strong>청소년보호정책</strong>,\n",
       " <strong>이메일무단수집거부</strong>,\n",
       " <strong>RSS</strong>]"
      ]
     },
     "execution_count": 237,
     "metadata": {},
     "output_type": "execute_result"
    }
   ],
   "source": [
    "title"
   ]
  },
  {
   "cell_type": "code",
   "execution_count": 238,
   "metadata": {},
   "outputs": [],
   "source": [
    "    titles = []\n",
    "    for i in range(8):\n",
    "        titles.append(str(title[i+1]))\n",
    "    title2 = []\n",
    "    for i in range(8):\n",
    "        title2.append(titles[i].split(','))\n",
    "    for i in range(8):\n",
    "        title2[i] = re.sub('<.+?>', '', str(title2[i]), 0).strip()\n",
    "        title2[i] = title2[i].replace(\"['\",\"\")\n",
    "        title2[i] = title2[i].replace(\"']\",\"\")"
   ]
  },
  {
   "cell_type": "code",
   "execution_count": 239,
   "metadata": {},
   "outputs": [],
   "source": [
    "title2 = parse_title(title)"
   ]
  },
  {
   "cell_type": "code",
   "execution_count": null,
   "metadata": {},
   "outputs": [],
   "source": []
  },
  {
   "cell_type": "code",
   "execution_count": 240,
   "metadata": {},
   "outputs": [
    {
     "name": "stdout",
     "output_type": "stream",
     "text": [
      "https://news.einfomax.co.kr//news/articleView.html?idxno=4112509 (16일)\n",
      "https://news.einfomax.co.kr//news/articleView.html?idxno=4112273 (15일)\n",
      "https://news.einfomax.co.kr//news/articleView.html?idxno=4112044 (14일)\n",
      "https://news.einfomax.co.kr//news/articleView.html?idxno=4111772 (13일)\n",
      "https://news.einfomax.co.kr//news/articleView.html?idxno=4111543 (12일)\n",
      "https://news.einfomax.co.kr//news/articleView.html?idxno=4111210 (8일)\n",
      "https://news.einfomax.co.kr//news/articleView.html?idxno=4110968 (7일)\n",
      "https://news.einfomax.co.kr//news/articleView.html?idxno=4110726 (6일)\n"
     ]
    }
   ],
   "source": [
    "#리스트에 저장하고\n",
    "for i in range(8):\n",
    "    a_tag_href = url_news +a_tags[i]['href']\n",
    "    table_to_excel(a_tag_href,title2[i])\n",
    "    print(a_tag_href,title2[i])"
   ]
  },
  {
   "cell_type": "code",
   "execution_count": 51,
   "metadata": {},
   "outputs": [
    {
     "name": "stdout",
     "output_type": "stream",
     "text": [
      "1\n",
      "3\n",
      "5\n",
      "7\n",
      "9\n",
      "11\n",
      "13\n"
     ]
    }
   ],
   "source": [
    "def plus_to(a,b):\n",
    "    print(a+b)\n",
    "\n",
    "    \n",
    "for i in range(7):\n",
    "    plus_to(i,i+1)"
   ]
  },
  {
   "cell_type": "code",
   "execution_count": null,
   "metadata": {},
   "outputs": [],
   "source": []
  }
 ],
 "metadata": {
  "kernelspec": {
   "display_name": "Python 3",
   "language": "python",
   "name": "python3"
  },
  "language_info": {
   "codemirror_mode": {
    "name": "ipython",
    "version": 3
   },
   "file_extension": ".py",
   "mimetype": "text/x-python",
   "name": "python",
   "nbconvert_exporter": "python",
   "pygments_lexer": "ipython3",
   "version": "3.7.6"
  }
 },
 "nbformat": 4,
 "nbformat_minor": 4
}
